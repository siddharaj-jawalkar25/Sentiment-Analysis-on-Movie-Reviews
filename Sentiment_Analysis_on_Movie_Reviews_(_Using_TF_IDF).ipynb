{
 "cells": [
  {
   "cell_type": "markdown",
   "metadata": {
    "id": "asw4TZgXIfFv"
   },
   "source": [
    "#Loading the Dataset"
   ]
  },
  {
   "cell_type": "markdown",
   "metadata": {
    "id": "diKc_9hU91iS"
   },
   "source": [
    "Import the Data"
   ]
  },
  {
   "cell_type": "code",
   "execution_count": 1,
   "metadata": {
    "id": "2Ac--dHr9kSP"
   },
   "outputs": [],
   "source": [
    "# Import required libraries\n",
    "import numpy as np\n",
    "import pandas as pd"
   ]
  },
  {
   "cell_type": "code",
   "execution_count": 3,
   "metadata": {
    "colab": {
     "base_uri": "https://localhost:8080/"
    },
    "id": "xH5kBlR591SE",
    "outputId": "0b4e4fbc-fd7f-4882-c147-8a1eff707248"
   },
   "outputs": [
    {
     "data": {
      "text/plain": [
       "(50000, 2)"
      ]
     },
     "execution_count": 3,
     "metadata": {},
     "output_type": "execute_result"
    }
   ],
   "source": [
    "# Import the dataset\n",
    "dataset = pd.read_csv('IMDB Dataset.csv')\n",
    "dataset.shape"
   ]
  },
  {
   "cell_type": "markdown",
   "metadata": {
    "id": "AH6PPzEpC19e"
   },
   "source": [
    "Transforming Documents into Feature Vectors"
   ]
  },
  {
   "cell_type": "code",
   "execution_count": 4,
   "metadata": {
    "colab": {
     "base_uri": "https://localhost:8080/"
    },
    "id": "zKOQ5XY4-b5C",
    "outputId": "c7421e9d-703f-464b-f5e7-2196902dfaed"
   },
   "outputs": [
    {
     "name": "stdout",
     "output_type": "stream",
     "text": [
      "{'the': 11, 'dog': 4, 'is': 6, 'running': 9, 'like': 8, 'chocolates': 3, 'beacause': 1, 'it': 7, 'sweet': 10, 'and': 0, 'chocolate': 2, 'two': 12, 'four': 5}\n",
      "[[0 0 0 0 1 0 1 0 0 1 0 1 0]\n",
      " [0 1 0 1 0 0 1 1 1 0 1 0 0]\n",
      " [3 0 1 0 1 1 3 0 0 1 1 1 2]]\n"
     ]
    }
   ],
   "source": [
    "#Transforming Documents into Feature Vectors\n",
    "from sklearn.feature_extraction.text import CountVectorizer\n",
    "count = CountVectorizer()\n",
    "docs = ([\n",
    "         'The dog is running',\n",
    "         'I like chocolates beacause it is sweet',\n",
    "         'The dog is running and chocolate is sweet, and two and two is four'\n",
    "])\n",
    "bag = count.fit_transform(docs)\n",
    "print(count.vocabulary_)\n",
    "print(bag.toarray())"
   ]
  },
  {
   "cell_type": "markdown",
   "metadata": {
    "id": "Nr4BQgYlFKuX"
   },
   "source": [
    "Word Relevancy using TF-IDF"
   ]
  },
  {
   "cell_type": "code",
   "execution_count": 5,
   "metadata": {
    "colab": {
     "base_uri": "https://localhost:8080/"
    },
    "id": "d0jDCHZJE9vS",
    "outputId": "14e2dbee-ea79-44b2-9d40-a56447072e53"
   },
   "outputs": [
    {
     "name": "stdout",
     "output_type": "stream",
     "text": [
      "[[0.   0.   0.   0.   0.53 0.   0.41 0.   0.   0.53 0.   0.53 0.  ]\n",
      " [0.   0.45 0.   0.45 0.   0.   0.27 0.45 0.45 0.   0.34 0.   0.  ]\n",
      " [0.66 0.   0.22 0.   0.17 0.22 0.39 0.   0.   0.17 0.17 0.17 0.44]]\n"
     ]
    }
   ],
   "source": [
    "# Word Relevancy using TF-IDF\n",
    "from sklearn.feature_extraction.text import TfidfTransformer\n",
    "np.set_printoptions(precision=2)\n",
    "tfidf = TfidfTransformer(use_idf = True, norm='l2', smooth_idf = True)\n",
    "print(tfidf.fit_transform(bag).toarray())"
   ]
  },
  {
   "cell_type": "markdown",
   "metadata": {
    "id": "x53eaoPrIm_n"
   },
   "source": [
    "#Data Cleaning\n"
   ]
  },
  {
   "cell_type": "code",
   "execution_count": 6,
   "metadata": {
    "colab": {
     "base_uri": "https://localhost:8080/",
     "height": 35
    },
    "id": "h48Uu6TKHMiO",
    "outputId": "38e81516-08cd-4369-ea5b-815b32b35a93"
   },
   "outputs": [
    {
     "data": {
      "text/plain": [
       "'this is a test :):('"
      ]
     },
     "execution_count": 6,
     "metadata": {},
     "output_type": "execute_result"
    }
   ],
   "source": [
    "# Data Cleaning - removing tags , replacing all the emoticons at the end of line\n",
    "import re\n",
    "def preprocessor(text):\n",
    "  text = re.sub('<[^>]*>', '', text)\n",
    "  emoticons = re.findall('(?::|;|=)(?:-)?(?:\\)|\\(|D|P)', text)\n",
    "  text = re.sub('[\\W]+', ' ', text.lower()) + ''.join(emoticons).replace('-', '')\n",
    "  return text\n",
    "preprocessor(\"This is a :) test :-( !\")"
   ]
  },
  {
   "cell_type": "markdown",
   "metadata": {
    "id": "4VyH7tIwQuoR"
   },
   "source": [
    "Tokenization of Documents"
   ]
  },
  {
   "cell_type": "code",
   "execution_count": 7,
   "metadata": {
    "colab": {
     "base_uri": "https://localhost:8080/"
    },
    "id": "IyuhlXqoQZnn",
    "outputId": "2984482f-a2bf-4484-8c41-fa02d76d2292"
   },
   "outputs": [
    {
     "data": {
      "text/plain": [
       "['Running', 'like', 'running', 'thus', 'they', 'run']"
      ]
     },
     "execution_count": 7,
     "metadata": {},
     "output_type": "execute_result"
    }
   ],
   "source": [
    "# Tokenization of Document\n",
    "from nltk.stem.porter import PorterStemmer\n",
    "porter = PorterStemmer()\n",
    "def tokenizer(text):\n",
    "  return text.split()\n",
    "tokenizer('Running like running thus they run')"
   ]
  },
  {
   "cell_type": "code",
   "execution_count": 8,
   "metadata": {
    "colab": {
     "base_uri": "https://localhost:8080/"
    },
    "id": "Yu31chftRF6N",
    "outputId": "f44e4a70-b286-4c4f-b9e8-ef42bfc5ffeb"
   },
   "outputs": [
    {
     "data": {
      "text/plain": [
       "['run', 'like', 'run', 'thu', 'they', 'run']"
      ]
     },
     "execution_count": 8,
     "metadata": {},
     "output_type": "execute_result"
    }
   ],
   "source": [
    "# Tokenization of Document and Steaming\n",
    "def tokenizer_stemmer(text):\n",
    "  return[porter.stem(word) for word in text.split()]\n",
    "tokenizer_stemmer('Running like running thus they run')"
   ]
  },
  {
   "cell_type": "markdown",
   "metadata": {
    "id": "SRJ25wlcRj-Q"
   },
   "source": [
    "Transform Text Data into TF-IDF Vectors"
   ]
  },
  {
   "cell_type": "code",
   "execution_count": 9,
   "metadata": {
    "id": "3c_u7Z7JRiJe"
   },
   "outputs": [],
   "source": [
    "# Transform Text Data into TF-IDF Vectors\n",
    "from sklearn.feature_extraction.text import TfidfVectorizer\n",
    "tfidf = TfidfVectorizer(strip_accents=None,\n",
    "                         lowercase=True,\n",
    "                         preprocessor=preprocessor,  # applied preprocessor in Data Cleaning\n",
    "                         tokenizer=tokenizer_stemmer,\n",
    "                         use_idf=True,\n",
    "                         norm='l2',\n",
    "                         smooth_idf=True)\n",
    "y = dataset.sentiment.values\n",
    "X = tfidf.fit_transform(dataset.review)"
   ]
  },
  {
   "cell_type": "markdown",
   "metadata": {
    "id": "atPNsC0wV08q"
   },
   "source": [
    "Document Classification using Logistic Regression"
   ]
  },
  {
   "cell_type": "code",
   "execution_count": null,
   "metadata": {
    "colab": {
     "base_uri": "https://localhost:8080/"
    },
    "id": "oQItX9tFTQgO",
    "outputId": "b547a6b4-62ea-4408-d07e-19a91d183b43"
   },
   "outputs": [
    {
     "name": "stderr",
     "output_type": "stream",
     "text": [
      "[Parallel(n_jobs=-1)]: Using backend LokyBackend with 8 concurrent workers.\n"
     ]
    }
   ],
   "source": [
    "# Training Logistic Regression model on Dataset\n",
    "from sklearn.model_selection import train_test_split\n",
    "import pickle\n",
    "from sklearn.linear_model import LogisticRegressionCV\n",
    "X_train, X_test, y_train, y_test = train_test_split(X, y, test_size = 0.5, random_state =1, shuffle=False)\n",
    "clf = LogisticRegressionCV(cv=5, \n",
    "                           scoring = 'accuracy',\n",
    "                           random_state = 0,\n",
    "                           n_jobs = -1,\n",
    "                           verbose = 3,\n",
    "                           max_iter = 300).fit(X_train, y_train)"
   ]
  },
  {
   "cell_type": "markdown",
   "metadata": {
    "id": "uOCwlwpQW1VU"
   },
   "source": [
    "Model Evaluation"
   ]
  },
  {
   "cell_type": "code",
   "execution_count": null,
   "metadata": {
    "colab": {
     "base_uri": "https://localhost:8080/"
    },
    "id": "yyQvi86JWrYf",
    "outputId": "3aca1c45-9b8c-48a5-81f2-6d054fb5b84c"
   },
   "outputs": [],
   "source": [
    "# Model Evaluation\n",
    "clf.score(X_test, y_test)"
   ]
  },
  {
   "cell_type": "code",
   "execution_count": 30,
   "metadata": {
    "id": "Q8Ok3GqjXDr9"
   },
   "outputs": [],
   "source": []
  }
 ],
 "metadata": {
  "colab": {
   "name": "Sentiment Analysis on Movie Reviews ( Using TF-IDF).ipynb",
   "provenance": []
  },
  "kernelspec": {
   "display_name": "Python 3 (ipykernel)",
   "language": "python",
   "name": "python3"
  },
  "language_info": {
   "codemirror_mode": {
    "name": "ipython",
    "version": 3
   },
   "file_extension": ".py",
   "mimetype": "text/x-python",
   "name": "python",
   "nbconvert_exporter": "python",
   "pygments_lexer": "ipython3",
   "version": "3.9.7"
  }
 },
 "nbformat": 4,
 "nbformat_minor": 1
}
