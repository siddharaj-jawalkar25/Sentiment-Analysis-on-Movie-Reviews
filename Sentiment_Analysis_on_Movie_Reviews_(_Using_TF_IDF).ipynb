{
 "cells": [
  {
   "cell_type": "markdown",
   "metadata": {
    "id": "asw4TZgXIfFv"
   },
   "source": [
    "#Loading the Dataset"
   ]
  },
  {
   "cell_type": "markdown",
   "metadata": {
    "id": "diKc_9hU91iS"
   },
   "source": [
    "Import the Data"
   ]
  },
  {
   "cell_type": "code",
   "execution_count": 2,
   "metadata": {
    "id": "2Ac--dHr9kSP"
   },
   "outputs": [],
   "source": [
    "# Import required libraries\n",
    "import numpy as np\n",
    "import pandas as pd"
   ]
  },
  {
   "cell_type": "code",
   "execution_count": 3,
   "metadata": {
    "colab": {
     "base_uri": "https://localhost:8080/"
    },
    "id": "xH5kBlR591SE",
    "outputId": "f698cf63-16fd-4c0b-9e6a-062c43726fe2"
   },
   "outputs": [
    {
     "data": {
      "text/plain": [
       "(50000, 2)"
      ]
     },
     "execution_count": 3,
     "metadata": {},
     "output_type": "execute_result"
    }
   ],
   "source": [
    "# Import the dataset\n",
    "dataset = pd.read_csv('IMDB Dataset.csv',engine = 'python', error_bad_lines=False)\n",
    "dataset.shape"
   ]
  },
  {
   "cell_type": "markdown",
   "metadata": {
    "id": "AH6PPzEpC19e"
   },
   "source": [
    "Transforming Documents into Feature Vectors"
   ]
  },
  {
   "cell_type": "code",
   "execution_count": 4,
   "metadata": {
    "colab": {
     "base_uri": "https://localhost:8080/"
    },
    "id": "zKOQ5XY4-b5C",
    "outputId": "dd765a27-86d9-4a3f-dfe6-00c56f323450"
   },
   "outputs": [
    {
     "name": "stdout",
     "output_type": "stream",
     "text": [
      "{'the': 11, 'dog': 4, 'is': 6, 'running': 9, 'like': 8, 'chocolates': 3, 'beacause': 1, 'it': 7, 'sweet': 10, 'and': 0, 'chocolate': 2, 'two': 12, 'four': 5}\n",
      "[[0 0 0 0 1 0 1 0 0 1 0 1 0]\n",
      " [0 1 0 1 0 0 1 1 1 0 1 0 0]\n",
      " [3 0 1 0 1 1 3 0 0 1 1 1 2]]\n"
     ]
    }
   ],
   "source": [
    "#Transforming Documents into Feature Vectors\n",
    "from sklearn.feature_extraction.text import CountVectorizer\n",
    "count = CountVectorizer()\n",
    "docs = ([\n",
    "         'The dog is running',\n",
    "         'I like chocolates beacause it is sweet',\n",
    "         'The dog is running and chocolate is sweet, and two and two is four'\n",
    "])\n",
    "bag = count.fit_transform(docs)\n",
    "print(count.vocabulary_)\n",
    "print(bag.toarray())"
   ]
  },
  {
   "cell_type": "markdown",
   "metadata": {
    "id": "Nr4BQgYlFKuX"
   },
   "source": [
    "Word Relevancy using TF-IDF"
   ]
  },
  {
   "cell_type": "code",
   "execution_count": 5,
   "metadata": {
    "colab": {
     "base_uri": "https://localhost:8080/"
    },
    "id": "d0jDCHZJE9vS",
    "outputId": "54cdc788-1ea1-4583-f7b7-e434c1ee38bd"
   },
   "outputs": [
    {
     "name": "stdout",
     "output_type": "stream",
     "text": [
      "[[0.   0.   0.   0.   0.53 0.   0.41 0.   0.   0.53 0.   0.53 0.  ]\n",
      " [0.   0.45 0.   0.45 0.   0.   0.27 0.45 0.45 0.   0.34 0.   0.  ]\n",
      " [0.66 0.   0.22 0.   0.17 0.22 0.39 0.   0.   0.17 0.17 0.17 0.44]]\n"
     ]
    }
   ],
   "source": [
    "# Word Relevancy using TF-IDF\n",
    "from sklearn.feature_extraction.text import TfidfTransformer\n",
    "np.set_printoptions(precision=2)\n",
    "tfidf = TfidfTransformer(use_idf = True, norm='l2', smooth_idf = True)\n",
    "print(tfidf.fit_transform(bag).toarray())"
   ]
  },
  {
   "cell_type": "markdown",
   "metadata": {
    "id": "x53eaoPrIm_n"
   },
   "source": [
    "#Data Cleaning\n"
   ]
  },
  {
   "cell_type": "code",
   "execution_count": 6,
   "metadata": {
    "colab": {
     "base_uri": "https://localhost:8080/",
     "height": 35
    },
    "id": "h48Uu6TKHMiO",
    "outputId": "0ba61811-a4be-475c-b9ef-dd85fe2d4c69"
   },
   "outputs": [
    {
     "data": {
      "application/vnd.google.colaboratory.intrinsic+json": {
       "type": "string"
      },
      "text/plain": [
       "'this is a test :):('"
      ]
     },
     "execution_count": 6,
     "metadata": {},
     "output_type": "execute_result"
    }
   ],
   "source": [
    "# Data Cleaning - removing tags , replacing all the emoticons at the end of line\n",
    "import re\n",
    "def preprocessor(text):\n",
    "  text = re.sub('<[^>]*>', '', text)\n",
    "  emoticons = re.findall('(?::|;|=)(?:-)?(?:\\)|\\(|D|P)', text)\n",
    "  text = re.sub('[\\W]+', ' ', text.lower()) + ''.join(emoticons).replace('-', '')\n",
    "  return text\n",
    "preprocessor(\"This is a :) test :-( !\")"
   ]
  },
  {
   "cell_type": "markdown",
   "metadata": {
    "id": "4VyH7tIwQuoR"
   },
   "source": [
    "Tokenization of Documents"
   ]
  },
  {
   "cell_type": "code",
   "execution_count": 7,
   "metadata": {
    "colab": {
     "base_uri": "https://localhost:8080/"
    },
    "id": "IyuhlXqoQZnn",
    "outputId": "cb612b37-0f19-4d5d-9e1d-6699eb63c153"
   },
   "outputs": [
    {
     "data": {
      "text/plain": [
       "['Running', 'like', 'running', 'thus', 'they', 'run']"
      ]
     },
     "execution_count": 7,
     "metadata": {},
     "output_type": "execute_result"
    }
   ],
   "source": [
    "# Tokenization of Document\n",
    "from nltk.stem.porter import PorterStemmer\n",
    "porter = PorterStemmer()\n",
    "def tokenizer(text):\n",
    "  return text.split()\n",
    "tokenizer('Running like running thus they run')"
   ]
  },
  {
   "cell_type": "code",
   "execution_count": 8,
   "metadata": {
    "colab": {
     "base_uri": "https://localhost:8080/"
    },
    "id": "Yu31chftRF6N",
    "outputId": "e8a3d7e3-7eca-4489-efc0-5e8150bc554a"
   },
   "outputs": [
    {
     "data": {
      "text/plain": [
       "['run', 'like', 'run', 'thu', 'they', 'run']"
      ]
     },
     "execution_count": 8,
     "metadata": {},
     "output_type": "execute_result"
    }
   ],
   "source": [
    "# Tokenization of Document and Steaming\n",
    "def tokenizer_stemmer(text):\n",
    "  return[porter.stem(word) for word in text.split()]\n",
    "tokenizer_stemmer('Running like running thus they run')"
   ]
  },
  {
   "cell_type": "markdown",
   "metadata": {
    "id": "SRJ25wlcRj-Q"
   },
   "source": [
    "Transform Text Data into TF-IDF Vectors"
   ]
  },
  {
   "cell_type": "code",
   "execution_count": 9,
   "metadata": {
    "id": "3c_u7Z7JRiJe"
   },
   "outputs": [],
   "source": [
    "# Transform Text Data into TF-IDF Vectors\n",
    "from sklearn.feature_extraction.text import TfidfVectorizer\n",
    "tfidf = TfidfVectorizer(strip_accents=None,\n",
    "                         lowercase=True,\n",
    "                         preprocessor=preprocessor,  # applied preprocessor in Data Cleaning\n",
    "                         tokenizer=tokenizer_stemmer,\n",
    "                         use_idf=True,\n",
    "                         norm='l2',\n",
    "                         smooth_idf=True)\n",
    "y = dataset.sentiment.values\n",
    "X = tfidf.fit_transform(dataset.review)"
   ]
  },
  {
   "cell_type": "markdown",
   "metadata": {
    "id": "atPNsC0wV08q"
   },
   "source": [
    "Document Classification using Logistic Regression"
   ]
  },
  {
   "cell_type": "code",
   "execution_count": 10,
   "metadata": {
    "colab": {
     "base_uri": "https://localhost:8080/"
    },
    "id": "oQItX9tFTQgO",
    "outputId": "f8c8c7ec-9907-4a16-f827-bf824c46c7cd"
   },
   "outputs": [
    {
     "name": "stderr",
     "output_type": "stream",
     "text": [
      "[Parallel(n_jobs=-1)]: Using backend LokyBackend with 2 concurrent workers.\n",
      "[Parallel(n_jobs=-1)]: Done   5 out of   5 | elapsed:  1.7min finished\n"
     ]
    }
   ],
   "source": [
    "# Training Logistic Regression model on Dataset\n",
    "from sklearn.model_selection import train_test_split\n",
    "import pickle\n",
    "from sklearn.linear_model import LogisticRegressionCV\n",
    "X_train, X_test, y_train, y_test = train_test_split(X, y, test_size = 0.5, random_state =1, shuffle=False)\n",
    "clf = LogisticRegressionCV(cv=5, \n",
    "                           scoring = 'accuracy',\n",
    "                           random_state = 0,\n",
    "                           n_jobs = -1,\n",
    "                           verbose = 3,\n",
    "                           max_iter = 300).fit(X_train, y_train)"
   ]
  },
  {
   "cell_type": "markdown",
   "metadata": {
    "id": "uOCwlwpQW1VU"
   },
   "source": [
    "Model Evaluation"
   ]
  },
  {
   "cell_type": "code",
   "execution_count": 86,
   "metadata": {
    "colab": {
     "base_uri": "https://localhost:8080/"
    },
    "id": "yyQvi86JWrYf",
    "outputId": "e128d8e7-8fcd-4619-98f4-998ed7ed7085"
   },
   "outputs": [
    {
     "data": {
      "text/plain": [
       "0.89476"
      ]
     },
     "execution_count": 86,
     "metadata": {},
     "output_type": "execute_result"
    }
   ],
   "source": [
    "# Model Evaluation\n",
    "clf.score(X_test, y_test)"
   ]
  },
  {
   "cell_type": "markdown",
   "metadata": {
    "id": "y87sGgOdemSb"
   },
   "source": [
    "Confusion Matrix"
   ]
  },
  {
   "cell_type": "code",
   "execution_count": 87,
   "metadata": {
    "id": "Q8Ok3GqjXDr9"
   },
   "outputs": [],
   "source": [
    "# predicting the result for X_test\n",
    "y_pred = clf.predict(X_test)"
   ]
  },
  {
   "cell_type": "code",
   "execution_count": 88,
   "metadata": {
    "colab": {
     "base_uri": "https://localhost:8080/"
    },
    "id": "b9kJ74vxeeR7",
    "outputId": "3c8ac039-93fc-4b68-e2e1-f2786f0c165b"
   },
   "outputs": [
    {
     "name": "stdout",
     "output_type": "stream",
     "text": [
      "11046 1428 1203 11323\n",
      "[[11046  1428]\n",
      " [ 1203 11323]]\n"
     ]
    },
    {
     "data": {
      "text/plain": [
       "0.89476"
      ]
     },
     "execution_count": 88,
     "metadata": {},
     "output_type": "execute_result"
    }
   ],
   "source": [
    "# To evaluate the performance of a classification model create confussion matrix\n",
    "from sklearn.metrics import confusion_matrix, accuracy_score, plot_confusion_matrix\n",
    "tn, fp, fn, tp = confusion_matrix(y_test, y_pred).ravel()\n",
    "print(tn, fp, fn, tp)\n",
    "cm = confusion_matrix(y_test, y_pred)\n",
    "print(cm)\n",
    "accuracy_score(y_test, y_pred)"
   ]
  },
  {
   "cell_type": "code",
   "execution_count": 91,
   "metadata": {
    "colab": {
     "base_uri": "https://localhost:8080/",
     "height": 295
    },
    "id": "nE0eXIhoejua",
    "outputId": "a9b46ebb-b0ca-4423-8650-4ac63fb24314"
   },
   "outputs": [
    {
     "data": {
      "image/png": "[encoded data removed]",
      "text/plain": [
       "<Figure size 432x288 with 1 Axes>"
      ]
     },
     "metadata": {
      "needs_background": "light"
     },
     "output_type": "display_data"
    }
   ],
   "source": [
    "# Ploting the +ve and -ve sentiment\n",
    "import matplotlib.pyplot as plt\n",
    "Xaxis = ('True Positive', 'False Positive', 'False Negative', 'True Negative')\n",
    "Yaxis = (tp, fp, fn, tn)\n",
    "colors = ('green','red')\n",
    "\n",
    "plt.bar(Xaxis, Yaxis, color=colors, width=0.3)\n",
    "plt.xlabel(\"Sentiment\")\n",
    "plt.ylabel(\"No. of Reviews\")\n",
    "plt.title(\"Senitment analysis\")\n",
    "plt.show()"
   ]
  },
  {
   "cell_type": "code",
   "execution_count": 92,
   "metadata": {
    "id": "mdejHEpPblqA"
   },
   "outputs": [
    {
     "data": {
      "text/plain": [
       "3.6349065008056134"
      ]
     },
     "execution_count": 92,
     "metadata": {},
     "output_type": "execute_result"
    }
   ],
   "source": [
    "# loss\n",
    "from sklearn.preprocessing import LabelEncoder\n",
    "le = LabelEncoder()\n",
    "Y = le.fit_transform(y_pred)\n",
    "\n",
    "from sklearn.metrics import log_loss\n",
    "log_loss(y_test, Y)"
   ]
  },
  {
   "cell_type": "code",
   "execution_count": null,
   "metadata": {},
   "outputs": [],
   "source": []
  }
 ],
 "metadata": {
  "colab": {
   "name": "Sentiment Analysis on Movie Reviews ( Using TF-IDF).ipynb",
   "provenance": []
  },
  "kernelspec": {
   "display_name": "Python 3 (ipykernel)",
   "language": "python",
   "name": "python3"
  },
  "language_info": {
   "codemirror_mode": {
    "name": "ipython",
    "version": 3
   },
   "file_extension": ".py",
   "mimetype": "text/x-python",
   "name": "python",
   "nbconvert_exporter": "python",
   "pygments_lexer": "ipython3",
   "version": "3.9.7"
  }
 },
 "nbformat": 4,
 "nbformat_minor": 1
}
